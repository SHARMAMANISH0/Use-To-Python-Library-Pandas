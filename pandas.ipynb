{
 "cells": [
  {
   "cell_type": "code",
   "execution_count": 7,
   "id": "f096ec39",
   "metadata": {},
   "outputs": [
    {
     "name": "stdout",
     "output_type": "stream",
     "text": [
      "Requirement already satisfied: pandas in c:\\users\\bharaman\\anaconda3\\lib\\site-packages (2.0.3)\n",
      "Requirement already satisfied: python-dateutil>=2.8.2 in c:\\users\\bharaman\\anaconda3\\lib\\site-packages (from pandas) (2.8.2)\n",
      "Requirement already satisfied: pytz>=2020.1 in c:\\users\\bharaman\\anaconda3\\lib\\site-packages (from pandas) (2023.3.post1)\n",
      "Requirement already satisfied: tzdata>=2022.1 in c:\\users\\bharaman\\anaconda3\\lib\\site-packages (from pandas) (2023.3)\n",
      "Requirement already satisfied: numpy>=1.21.0 in c:\\users\\bharaman\\anaconda3\\lib\\site-packages (from pandas) (1.24.3)\n",
      "Requirement already satisfied: six>=1.5 in c:\\users\\bharaman\\anaconda3\\lib\\site-packages (from python-dateutil>=2.8.2->pandas) (1.16.0)\n"
     ]
    }
   ],
   "source": [
    "!pip install pandas"
   ]
  },
  {
   "cell_type": "code",
   "execution_count": 2,
   "id": "4d30cbee",
   "metadata": {},
   "outputs": [],
   "source": [
    "# Pandas ====> Open-Source Library that is used for data handling data manipulations . "
   ]
  },
  {
   "cell_type": "code",
   "execution_count": 3,
   "id": "0e154710",
   "metadata": {},
   "outputs": [],
   "source": [
    "# Data Structure of Pandas ===>>>>>\n",
    "\n",
    "# (1). Series ===> One-dimensional array , it shows only values not column name .  \n",
    "\n",
    "# (2). DataFrame ===> Multi-dimensional array , it shows values with column name . "
   ]
  },
  {
   "cell_type": "markdown",
   "id": "992bb3b4",
   "metadata": {},
   "source": [
    "# (1). Series"
   ]
  },
  {
   "cell_type": "code",
   "execution_count": 4,
   "id": "4b30b15e",
   "metadata": {},
   "outputs": [],
   "source": [
    "import pandas as pd\n"
   ]
  },
  {
   "cell_type": "code",
   "execution_count": 5,
   "id": "ef497b8a",
   "metadata": {},
   "outputs": [
    {
     "data": {
      "text/plain": [
       "0     1\n",
       "1    45\n",
       "2    78\n",
       "3    90\n",
       "dtype: int64"
      ]
     },
     "execution_count": 5,
     "metadata": {},
     "output_type": "execute_result"
    }
   ],
   "source": [
    "a = pd.Series([1,45,78,90])\n",
    "a"
   ]
  },
  {
   "cell_type": "code",
   "execution_count": 6,
   "id": "816900e8",
   "metadata": {},
   "outputs": [
    {
     "data": {
      "text/plain": [
       "pandas.core.series.Series"
      ]
     },
     "execution_count": 6,
     "metadata": {},
     "output_type": "execute_result"
    }
   ],
   "source": [
    "type(a)"
   ]
  },
  {
   "cell_type": "markdown",
   "id": "af1a1f22",
   "metadata": {},
   "source": [
    "# (2). DataFrame"
   ]
  },
  {
   "cell_type": "code",
   "execution_count": 21,
   "id": "55e4b4a1",
   "metadata": {},
   "outputs": [],
   "source": [
    "a ={\n",
    "    \"Emp_Id\":[101,102,103,104,105,106,107,108],\n",
    "    \"Name\" :['A','B','A','A','C','A','B','D'],\n",
    "    \"Department\":['IT','HR','Sales','IT','HR','IT','HR', 'ÍT'],\n",
    "    \"Working_hours\":[8,6,5,3,6,9,8,6],\n",
    "    \"Salary\":[23000,25000,26000,27000,3000,32000,45000,37000]\n",
    "}"
   ]
  },
  {
   "cell_type": "code",
   "execution_count": 22,
   "id": "c8f70845",
   "metadata": {},
   "outputs": [
    {
     "data": {
      "text/plain": [
       "dict"
      ]
     },
     "execution_count": 22,
     "metadata": {},
     "output_type": "execute_result"
    }
   ],
   "source": [
    "type(a)"
   ]
  },
  {
   "cell_type": "code",
   "execution_count": 23,
   "id": "0a3ebd3e",
   "metadata": {},
   "outputs": [
    {
     "data": {
      "text/html": [
       "<div>\n",
       "<style scoped>\n",
       "    .dataframe tbody tr th:only-of-type {\n",
       "        vertical-align: middle;\n",
       "    }\n",
       "\n",
       "    .dataframe tbody tr th {\n",
       "        vertical-align: top;\n",
       "    }\n",
       "\n",
       "    .dataframe thead th {\n",
       "        text-align: right;\n",
       "    }\n",
       "</style>\n",
       "<table border=\"1\" class=\"dataframe\">\n",
       "  <thead>\n",
       "    <tr style=\"text-align: right;\">\n",
       "      <th></th>\n",
       "      <th>Emp_Id</th>\n",
       "      <th>Name</th>\n",
       "      <th>Department</th>\n",
       "      <th>Working_hours</th>\n",
       "      <th>Salary</th>\n",
       "    </tr>\n",
       "  </thead>\n",
       "  <tbody>\n",
       "    <tr>\n",
       "      <th>0</th>\n",
       "      <td>101</td>\n",
       "      <td>A</td>\n",
       "      <td>IT</td>\n",
       "      <td>8</td>\n",
       "      <td>23000</td>\n",
       "    </tr>\n",
       "    <tr>\n",
       "      <th>1</th>\n",
       "      <td>102</td>\n",
       "      <td>B</td>\n",
       "      <td>HR</td>\n",
       "      <td>6</td>\n",
       "      <td>25000</td>\n",
       "    </tr>\n",
       "    <tr>\n",
       "      <th>2</th>\n",
       "      <td>103</td>\n",
       "      <td>A</td>\n",
       "      <td>Sales</td>\n",
       "      <td>5</td>\n",
       "      <td>26000</td>\n",
       "    </tr>\n",
       "    <tr>\n",
       "      <th>3</th>\n",
       "      <td>104</td>\n",
       "      <td>A</td>\n",
       "      <td>IT</td>\n",
       "      <td>3</td>\n",
       "      <td>27000</td>\n",
       "    </tr>\n",
       "    <tr>\n",
       "      <th>4</th>\n",
       "      <td>105</td>\n",
       "      <td>C</td>\n",
       "      <td>HR</td>\n",
       "      <td>6</td>\n",
       "      <td>3000</td>\n",
       "    </tr>\n",
       "    <tr>\n",
       "      <th>5</th>\n",
       "      <td>106</td>\n",
       "      <td>A</td>\n",
       "      <td>IT</td>\n",
       "      <td>9</td>\n",
       "      <td>32000</td>\n",
       "    </tr>\n",
       "    <tr>\n",
       "      <th>6</th>\n",
       "      <td>107</td>\n",
       "      <td>B</td>\n",
       "      <td>HR</td>\n",
       "      <td>8</td>\n",
       "      <td>45000</td>\n",
       "    </tr>\n",
       "    <tr>\n",
       "      <th>7</th>\n",
       "      <td>108</td>\n",
       "      <td>D</td>\n",
       "      <td>ÍT</td>\n",
       "      <td>6</td>\n",
       "      <td>37000</td>\n",
       "    </tr>\n",
       "  </tbody>\n",
       "</table>\n",
       "</div>"
      ],
      "text/plain": [
       "   Emp_Id Name Department  Working_hours  Salary\n",
       "0     101    A         IT              8   23000\n",
       "1     102    B         HR              6   25000\n",
       "2     103    A      Sales              5   26000\n",
       "3     104    A         IT              3   27000\n",
       "4     105    C         HR              6    3000\n",
       "5     106    A         IT              9   32000\n",
       "6     107    B         HR              8   45000\n",
       "7     108    D         ÍT              6   37000"
      ]
     },
     "execution_count": 23,
     "metadata": {},
     "output_type": "execute_result"
    }
   ],
   "source": [
    "df=pd.DataFrame(a)\n",
    "df"
   ]
  },
  {
   "cell_type": "markdown",
   "id": "2669841a",
   "metadata": {},
   "source": [
    "# How can we check top 5 data in a dataframe ?"
   ]
  },
  {
   "cell_type": "code",
   "execution_count": 24,
   "id": "53b0e162",
   "metadata": {},
   "outputs": [
    {
     "data": {
      "text/html": [
       "<div>\n",
       "<style scoped>\n",
       "    .dataframe tbody tr th:only-of-type {\n",
       "        vertical-align: middle;\n",
       "    }\n",
       "\n",
       "    .dataframe tbody tr th {\n",
       "        vertical-align: top;\n",
       "    }\n",
       "\n",
       "    .dataframe thead th {\n",
       "        text-align: right;\n",
       "    }\n",
       "</style>\n",
       "<table border=\"1\" class=\"dataframe\">\n",
       "  <thead>\n",
       "    <tr style=\"text-align: right;\">\n",
       "      <th></th>\n",
       "      <th>Emp_Id</th>\n",
       "      <th>Name</th>\n",
       "      <th>Department</th>\n",
       "      <th>Working_hours</th>\n",
       "      <th>Salary</th>\n",
       "    </tr>\n",
       "  </thead>\n",
       "  <tbody>\n",
       "    <tr>\n",
       "      <th>0</th>\n",
       "      <td>101</td>\n",
       "      <td>A</td>\n",
       "      <td>IT</td>\n",
       "      <td>8</td>\n",
       "      <td>23000</td>\n",
       "    </tr>\n",
       "    <tr>\n",
       "      <th>1</th>\n",
       "      <td>102</td>\n",
       "      <td>B</td>\n",
       "      <td>HR</td>\n",
       "      <td>6</td>\n",
       "      <td>25000</td>\n",
       "    </tr>\n",
       "    <tr>\n",
       "      <th>2</th>\n",
       "      <td>103</td>\n",
       "      <td>A</td>\n",
       "      <td>Sales</td>\n",
       "      <td>5</td>\n",
       "      <td>26000</td>\n",
       "    </tr>\n",
       "    <tr>\n",
       "      <th>3</th>\n",
       "      <td>104</td>\n",
       "      <td>A</td>\n",
       "      <td>IT</td>\n",
       "      <td>3</td>\n",
       "      <td>27000</td>\n",
       "    </tr>\n",
       "    <tr>\n",
       "      <th>4</th>\n",
       "      <td>105</td>\n",
       "      <td>C</td>\n",
       "      <td>HR</td>\n",
       "      <td>6</td>\n",
       "      <td>3000</td>\n",
       "    </tr>\n",
       "  </tbody>\n",
       "</table>\n",
       "</div>"
      ],
      "text/plain": [
       "   Emp_Id Name Department  Working_hours  Salary\n",
       "0     101    A         IT              8   23000\n",
       "1     102    B         HR              6   25000\n",
       "2     103    A      Sales              5   26000\n",
       "3     104    A         IT              3   27000\n",
       "4     105    C         HR              6    3000"
      ]
     },
     "execution_count": 24,
     "metadata": {},
     "output_type": "execute_result"
    }
   ],
   "source": [
    "df.head()"
   ]
  },
  {
   "cell_type": "code",
   "execution_count": 25,
   "id": "63acea2f",
   "metadata": {},
   "outputs": [
    {
     "data": {
      "text/html": [
       "<div>\n",
       "<style scoped>\n",
       "    .dataframe tbody tr th:only-of-type {\n",
       "        vertical-align: middle;\n",
       "    }\n",
       "\n",
       "    .dataframe tbody tr th {\n",
       "        vertical-align: top;\n",
       "    }\n",
       "\n",
       "    .dataframe thead th {\n",
       "        text-align: right;\n",
       "    }\n",
       "</style>\n",
       "<table border=\"1\" class=\"dataframe\">\n",
       "  <thead>\n",
       "    <tr style=\"text-align: right;\">\n",
       "      <th></th>\n",
       "      <th>Emp_Id</th>\n",
       "      <th>Name</th>\n",
       "      <th>Department</th>\n",
       "      <th>Working_hours</th>\n",
       "      <th>Salary</th>\n",
       "    </tr>\n",
       "  </thead>\n",
       "  <tbody>\n",
       "    <tr>\n",
       "      <th>0</th>\n",
       "      <td>101</td>\n",
       "      <td>A</td>\n",
       "      <td>IT</td>\n",
       "      <td>8</td>\n",
       "      <td>23000</td>\n",
       "    </tr>\n",
       "    <tr>\n",
       "      <th>1</th>\n",
       "      <td>102</td>\n",
       "      <td>B</td>\n",
       "      <td>HR</td>\n",
       "      <td>6</td>\n",
       "      <td>25000</td>\n",
       "    </tr>\n",
       "    <tr>\n",
       "      <th>2</th>\n",
       "      <td>103</td>\n",
       "      <td>A</td>\n",
       "      <td>Sales</td>\n",
       "      <td>5</td>\n",
       "      <td>26000</td>\n",
       "    </tr>\n",
       "  </tbody>\n",
       "</table>\n",
       "</div>"
      ],
      "text/plain": [
       "   Emp_Id Name Department  Working_hours  Salary\n",
       "0     101    A         IT              8   23000\n",
       "1     102    B         HR              6   25000\n",
       "2     103    A      Sales              5   26000"
      ]
     },
     "execution_count": 25,
     "metadata": {},
     "output_type": "execute_result"
    }
   ],
   "source": [
    "df.head(3)"
   ]
  },
  {
   "cell_type": "markdown",
   "id": "867172c4",
   "metadata": {},
   "source": [
    "# How can we check bottom 5 data ?"
   ]
  },
  {
   "cell_type": "code",
   "execution_count": 31,
   "id": "f6c38a4a",
   "metadata": {},
   "outputs": [
    {
     "data": {
      "text/html": [
       "<div>\n",
       "<style scoped>\n",
       "    .dataframe tbody tr th:only-of-type {\n",
       "        vertical-align: middle;\n",
       "    }\n",
       "\n",
       "    .dataframe tbody tr th {\n",
       "        vertical-align: top;\n",
       "    }\n",
       "\n",
       "    .dataframe thead th {\n",
       "        text-align: right;\n",
       "    }\n",
       "</style>\n",
       "<table border=\"1\" class=\"dataframe\">\n",
       "  <thead>\n",
       "    <tr style=\"text-align: right;\">\n",
       "      <th></th>\n",
       "      <th>Emp_Id</th>\n",
       "      <th>Name</th>\n",
       "      <th>Department</th>\n",
       "      <th>Working_hours</th>\n",
       "      <th>Salary</th>\n",
       "    </tr>\n",
       "  </thead>\n",
       "  <tbody>\n",
       "    <tr>\n",
       "      <th>3</th>\n",
       "      <td>104</td>\n",
       "      <td>A</td>\n",
       "      <td>IT</td>\n",
       "      <td>3</td>\n",
       "      <td>27000</td>\n",
       "    </tr>\n",
       "    <tr>\n",
       "      <th>4</th>\n",
       "      <td>105</td>\n",
       "      <td>C</td>\n",
       "      <td>HR</td>\n",
       "      <td>6</td>\n",
       "      <td>3000</td>\n",
       "    </tr>\n",
       "    <tr>\n",
       "      <th>5</th>\n",
       "      <td>106</td>\n",
       "      <td>A</td>\n",
       "      <td>IT</td>\n",
       "      <td>9</td>\n",
       "      <td>32000</td>\n",
       "    </tr>\n",
       "    <tr>\n",
       "      <th>6</th>\n",
       "      <td>107</td>\n",
       "      <td>B</td>\n",
       "      <td>HR</td>\n",
       "      <td>8</td>\n",
       "      <td>45000</td>\n",
       "    </tr>\n",
       "    <tr>\n",
       "      <th>7</th>\n",
       "      <td>108</td>\n",
       "      <td>D</td>\n",
       "      <td>ÍT</td>\n",
       "      <td>6</td>\n",
       "      <td>37000</td>\n",
       "    </tr>\n",
       "  </tbody>\n",
       "</table>\n",
       "</div>"
      ],
      "text/plain": [
       "   Emp_Id Name Department  Working_hours  Salary\n",
       "3     104    A         IT              3   27000\n",
       "4     105    C         HR              6    3000\n",
       "5     106    A         IT              9   32000\n",
       "6     107    B         HR              8   45000\n",
       "7     108    D         ÍT              6   37000"
      ]
     },
     "execution_count": 31,
     "metadata": {},
     "output_type": "execute_result"
    }
   ],
   "source": [
    "df.tail()"
   ]
  },
  {
   "cell_type": "code",
   "execution_count": 32,
   "id": "48dc3ef1",
   "metadata": {},
   "outputs": [
    {
     "data": {
      "text/html": [
       "<div>\n",
       "<style scoped>\n",
       "    .dataframe tbody tr th:only-of-type {\n",
       "        vertical-align: middle;\n",
       "    }\n",
       "\n",
       "    .dataframe tbody tr th {\n",
       "        vertical-align: top;\n",
       "    }\n",
       "\n",
       "    .dataframe thead th {\n",
       "        text-align: right;\n",
       "    }\n",
       "</style>\n",
       "<table border=\"1\" class=\"dataframe\">\n",
       "  <thead>\n",
       "    <tr style=\"text-align: right;\">\n",
       "      <th></th>\n",
       "      <th>Emp_Id</th>\n",
       "      <th>Name</th>\n",
       "      <th>Department</th>\n",
       "      <th>Working_hours</th>\n",
       "      <th>Salary</th>\n",
       "    </tr>\n",
       "  </thead>\n",
       "  <tbody>\n",
       "    <tr>\n",
       "      <th>4</th>\n",
       "      <td>105</td>\n",
       "      <td>C</td>\n",
       "      <td>HR</td>\n",
       "      <td>6</td>\n",
       "      <td>3000</td>\n",
       "    </tr>\n",
       "    <tr>\n",
       "      <th>5</th>\n",
       "      <td>106</td>\n",
       "      <td>A</td>\n",
       "      <td>IT</td>\n",
       "      <td>9</td>\n",
       "      <td>32000</td>\n",
       "    </tr>\n",
       "    <tr>\n",
       "      <th>6</th>\n",
       "      <td>107</td>\n",
       "      <td>B</td>\n",
       "      <td>HR</td>\n",
       "      <td>8</td>\n",
       "      <td>45000</td>\n",
       "    </tr>\n",
       "    <tr>\n",
       "      <th>7</th>\n",
       "      <td>108</td>\n",
       "      <td>D</td>\n",
       "      <td>ÍT</td>\n",
       "      <td>6</td>\n",
       "      <td>37000</td>\n",
       "    </tr>\n",
       "  </tbody>\n",
       "</table>\n",
       "</div>"
      ],
      "text/plain": [
       "   Emp_Id Name Department  Working_hours  Salary\n",
       "4     105    C         HR              6    3000\n",
       "5     106    A         IT              9   32000\n",
       "6     107    B         HR              8   45000\n",
       "7     108    D         ÍT              6   37000"
      ]
     },
     "execution_count": 32,
     "metadata": {},
     "output_type": "execute_result"
    }
   ],
   "source": [
    "df.tail(4)"
   ]
  },
  {
   "cell_type": "markdown",
   "id": "b8f63bdc",
   "metadata": {},
   "source": [
    "# How can we check random indexed data ?"
   ]
  },
  {
   "cell_type": "code",
   "execution_count": 33,
   "id": "ed888a99",
   "metadata": {},
   "outputs": [
    {
     "data": {
      "text/html": [
       "<div>\n",
       "<style scoped>\n",
       "    .dataframe tbody tr th:only-of-type {\n",
       "        vertical-align: middle;\n",
       "    }\n",
       "\n",
       "    .dataframe tbody tr th {\n",
       "        vertical-align: top;\n",
       "    }\n",
       "\n",
       "    .dataframe thead th {\n",
       "        text-align: right;\n",
       "    }\n",
       "</style>\n",
       "<table border=\"1\" class=\"dataframe\">\n",
       "  <thead>\n",
       "    <tr style=\"text-align: right;\">\n",
       "      <th></th>\n",
       "      <th>Emp_Id</th>\n",
       "      <th>Name</th>\n",
       "      <th>Department</th>\n",
       "      <th>Working_hours</th>\n",
       "      <th>Salary</th>\n",
       "    </tr>\n",
       "  </thead>\n",
       "  <tbody>\n",
       "    <tr>\n",
       "      <th>4</th>\n",
       "      <td>105</td>\n",
       "      <td>C</td>\n",
       "      <td>HR</td>\n",
       "      <td>6</td>\n",
       "      <td>3000</td>\n",
       "    </tr>\n",
       "    <tr>\n",
       "      <th>0</th>\n",
       "      <td>101</td>\n",
       "      <td>A</td>\n",
       "      <td>IT</td>\n",
       "      <td>8</td>\n",
       "      <td>23000</td>\n",
       "    </tr>\n",
       "    <tr>\n",
       "      <th>1</th>\n",
       "      <td>102</td>\n",
       "      <td>B</td>\n",
       "      <td>HR</td>\n",
       "      <td>6</td>\n",
       "      <td>25000</td>\n",
       "    </tr>\n",
       "  </tbody>\n",
       "</table>\n",
       "</div>"
      ],
      "text/plain": [
       "   Emp_Id Name Department  Working_hours  Salary\n",
       "4     105    C         HR              6    3000\n",
       "0     101    A         IT              8   23000\n",
       "1     102    B         HR              6   25000"
      ]
     },
     "execution_count": 33,
     "metadata": {},
     "output_type": "execute_result"
    }
   ],
   "source": [
    "df.sample(3)"
   ]
  },
  {
   "cell_type": "markdown",
   "id": "38a88eea",
   "metadata": {},
   "source": [
    "# How can we check total columns in a dataframe ?"
   ]
  },
  {
   "cell_type": "code",
   "execution_count": 34,
   "id": "c310c9d6",
   "metadata": {},
   "outputs": [
    {
     "data": {
      "text/plain": [
       "Index(['Emp_Id', 'Name', 'Department', 'Working_hours', 'Salary'], dtype='object')"
      ]
     },
     "execution_count": 34,
     "metadata": {},
     "output_type": "execute_result"
    }
   ],
   "source": [
    "df.columns"
   ]
  },
  {
   "cell_type": "markdown",
   "id": "d9c1ded3",
   "metadata": {},
   "source": [
    "# How can we check total columns in a dataframe ?"
   ]
  },
  {
   "cell_type": "code",
   "execution_count": 35,
   "id": "2472a429",
   "metadata": {},
   "outputs": [
    {
     "name": "stdout",
     "output_type": "stream",
     "text": [
      "<class 'pandas.core.frame.DataFrame'>\n",
      "RangeIndex: 8 entries, 0 to 7\n",
      "Data columns (total 5 columns):\n",
      " #   Column         Non-Null Count  Dtype \n",
      "---  ------         --------------  ----- \n",
      " 0   Emp_Id         8 non-null      int64 \n",
      " 1   Name           8 non-null      object\n",
      " 2   Department     8 non-null      object\n",
      " 3   Working_hours  8 non-null      int64 \n",
      " 4   Salary         8 non-null      int64 \n",
      "dtypes: int64(3), object(2)\n",
      "memory usage: 452.0+ bytes\n"
     ]
    }
   ],
   "source": [
    "df.info()"
   ]
  },
  {
   "cell_type": "markdown",
   "id": "f9323a45",
   "metadata": {},
   "source": [
    "# How can we check statically view of our data ?"
   ]
  },
  {
   "cell_type": "code",
   "execution_count": 36,
   "id": "513b8267",
   "metadata": {},
   "outputs": [
    {
     "data": {
      "text/html": [
       "<div>\n",
       "<style scoped>\n",
       "    .dataframe tbody tr th:only-of-type {\n",
       "        vertical-align: middle;\n",
       "    }\n",
       "\n",
       "    .dataframe tbody tr th {\n",
       "        vertical-align: top;\n",
       "    }\n",
       "\n",
       "    .dataframe thead th {\n",
       "        text-align: right;\n",
       "    }\n",
       "</style>\n",
       "<table border=\"1\" class=\"dataframe\">\n",
       "  <thead>\n",
       "    <tr style=\"text-align: right;\">\n",
       "      <th></th>\n",
       "      <th>Emp_Id</th>\n",
       "      <th>Working_hours</th>\n",
       "      <th>Salary</th>\n",
       "    </tr>\n",
       "  </thead>\n",
       "  <tbody>\n",
       "    <tr>\n",
       "      <th>count</th>\n",
       "      <td>8.00000</td>\n",
       "      <td>8.00000</td>\n",
       "      <td>8.000000</td>\n",
       "    </tr>\n",
       "    <tr>\n",
       "      <th>mean</th>\n",
       "      <td>104.50000</td>\n",
       "      <td>6.37500</td>\n",
       "      <td>27250.000000</td>\n",
       "    </tr>\n",
       "    <tr>\n",
       "      <th>std</th>\n",
       "      <td>2.44949</td>\n",
       "      <td>1.92261</td>\n",
       "      <td>12221.176001</td>\n",
       "    </tr>\n",
       "    <tr>\n",
       "      <th>min</th>\n",
       "      <td>101.00000</td>\n",
       "      <td>3.00000</td>\n",
       "      <td>3000.000000</td>\n",
       "    </tr>\n",
       "    <tr>\n",
       "      <th>25%</th>\n",
       "      <td>102.75000</td>\n",
       "      <td>5.75000</td>\n",
       "      <td>24500.000000</td>\n",
       "    </tr>\n",
       "    <tr>\n",
       "      <th>50%</th>\n",
       "      <td>104.50000</td>\n",
       "      <td>6.00000</td>\n",
       "      <td>26500.000000</td>\n",
       "    </tr>\n",
       "    <tr>\n",
       "      <th>75%</th>\n",
       "      <td>106.25000</td>\n",
       "      <td>8.00000</td>\n",
       "      <td>33250.000000</td>\n",
       "    </tr>\n",
       "    <tr>\n",
       "      <th>max</th>\n",
       "      <td>108.00000</td>\n",
       "      <td>9.00000</td>\n",
       "      <td>45000.000000</td>\n",
       "    </tr>\n",
       "  </tbody>\n",
       "</table>\n",
       "</div>"
      ],
      "text/plain": [
       "          Emp_Id  Working_hours        Salary\n",
       "count    8.00000        8.00000      8.000000\n",
       "mean   104.50000        6.37500  27250.000000\n",
       "std      2.44949        1.92261  12221.176001\n",
       "min    101.00000        3.00000   3000.000000\n",
       "25%    102.75000        5.75000  24500.000000\n",
       "50%    104.50000        6.00000  26500.000000\n",
       "75%    106.25000        8.00000  33250.000000\n",
       "max    108.00000        9.00000  45000.000000"
      ]
     },
     "execution_count": 36,
     "metadata": {},
     "output_type": "execute_result"
    }
   ],
   "source": [
    "df.describe()"
   ]
  },
  {
   "cell_type": "markdown",
   "id": "eabad2e4",
   "metadata": {},
   "source": [
    "# How can we export our dataframe into local system ?"
   ]
  },
  {
   "cell_type": "code",
   "execution_count": 40,
   "id": "1025238f",
   "metadata": {},
   "outputs": [],
   "source": [
    "df.to_csv(\"C:\\\\Users\\\\BHARAMAN\\\\Desktop\\\\manish\\\\emp.csv\",index=False)"
   ]
  },
  {
   "cell_type": "code",
   "execution_count": null,
   "id": "46fef178",
   "metadata": {},
   "outputs": [],
   "source": [
    "df.to_excel(\"C:\\\\Users\\\\BHARAMAN\\\\Desktop\\\\manish\\\\New_emp.csv\" , index = False)"
   ]
  },
  {
   "cell_type": "code",
   "execution_count": 44,
   "id": "81d744c2",
   "metadata": {},
   "outputs": [
    {
     "name": "stdout",
     "output_type": "stream",
     "text": [
      "Requirement already satisfied: openpyxl in c:\\users\\bharaman\\anaconda3\\lib\\site-packages (3.0.10)\n",
      "Requirement already satisfied: et_xmlfile in c:\\users\\bharaman\\anaconda3\\lib\\site-packages (from openpyxl) (1.1.0)\n"
     ]
    }
   ],
   "source": [
    "#!pip install openpyxl"
   ]
  },
  {
   "cell_type": "markdown",
   "id": "3d206115",
   "metadata": {},
   "source": [
    "# How can we import our file into juupyternotebook ?"
   ]
  },
  {
   "cell_type": "code",
   "execution_count": 43,
   "id": "f6a9d33c",
   "metadata": {},
   "outputs": [
    {
     "data": {
      "text/html": [
       "<div>\n",
       "<style scoped>\n",
       "    .dataframe tbody tr th:only-of-type {\n",
       "        vertical-align: middle;\n",
       "    }\n",
       "\n",
       "    .dataframe tbody tr th {\n",
       "        vertical-align: top;\n",
       "    }\n",
       "\n",
       "    .dataframe thead th {\n",
       "        text-align: right;\n",
       "    }\n",
       "</style>\n",
       "<table border=\"1\" class=\"dataframe\">\n",
       "  <thead>\n",
       "    <tr style=\"text-align: right;\">\n",
       "      <th></th>\n",
       "      <th>Emp_Id</th>\n",
       "      <th>Name</th>\n",
       "      <th>Department</th>\n",
       "      <th>Working_hours</th>\n",
       "      <th>Salary</th>\n",
       "    </tr>\n",
       "  </thead>\n",
       "  <tbody>\n",
       "    <tr>\n",
       "      <th>0</th>\n",
       "      <td>101</td>\n",
       "      <td>A</td>\n",
       "      <td>IT</td>\n",
       "      <td>8</td>\n",
       "      <td>23000</td>\n",
       "    </tr>\n",
       "    <tr>\n",
       "      <th>1</th>\n",
       "      <td>102</td>\n",
       "      <td>B</td>\n",
       "      <td>HR</td>\n",
       "      <td>6</td>\n",
       "      <td>25000</td>\n",
       "    </tr>\n",
       "    <tr>\n",
       "      <th>2</th>\n",
       "      <td>103</td>\n",
       "      <td>A</td>\n",
       "      <td>Sales</td>\n",
       "      <td>5</td>\n",
       "      <td>26000</td>\n",
       "    </tr>\n",
       "    <tr>\n",
       "      <th>3</th>\n",
       "      <td>104</td>\n",
       "      <td>A</td>\n",
       "      <td>IT</td>\n",
       "      <td>3</td>\n",
       "      <td>27000</td>\n",
       "    </tr>\n",
       "    <tr>\n",
       "      <th>4</th>\n",
       "      <td>105</td>\n",
       "      <td>C</td>\n",
       "      <td>HR</td>\n",
       "      <td>6</td>\n",
       "      <td>3000</td>\n",
       "    </tr>\n",
       "    <tr>\n",
       "      <th>5</th>\n",
       "      <td>106</td>\n",
       "      <td>A</td>\n",
       "      <td>IT</td>\n",
       "      <td>9</td>\n",
       "      <td>32000</td>\n",
       "    </tr>\n",
       "    <tr>\n",
       "      <th>6</th>\n",
       "      <td>107</td>\n",
       "      <td>B</td>\n",
       "      <td>HR</td>\n",
       "      <td>8</td>\n",
       "      <td>45000</td>\n",
       "    </tr>\n",
       "    <tr>\n",
       "      <th>7</th>\n",
       "      <td>108</td>\n",
       "      <td>D</td>\n",
       "      <td>ÍT</td>\n",
       "      <td>6</td>\n",
       "      <td>37000</td>\n",
       "    </tr>\n",
       "  </tbody>\n",
       "</table>\n",
       "</div>"
      ],
      "text/plain": [
       "   Emp_Id Name Department  Working_hours  Salary\n",
       "0     101    A         IT              8   23000\n",
       "1     102    B         HR              6   25000\n",
       "2     103    A      Sales              5   26000\n",
       "3     104    A         IT              3   27000\n",
       "4     105    C         HR              6    3000\n",
       "5     106    A         IT              9   32000\n",
       "6     107    B         HR              8   45000\n",
       "7     108    D         ÍT              6   37000"
      ]
     },
     "execution_count": 43,
     "metadata": {},
     "output_type": "execute_result"
    }
   ],
   "source": [
    "df =pd. read_csv(\"C:\\\\Users\\\\BHARAMAN\\\\Desktop\\\\manish\\\\emp.csv\")\n",
    "df"
   ]
  }
 ],
 "metadata": {
  "kernelspec": {
   "display_name": "Python 3 (ipykernel)",
   "language": "python",
   "name": "python3"
  },
  "language_info": {
   "codemirror_mode": {
    "name": "ipython",
    "version": 3
   },
   "file_extension": ".py",
   "mimetype": "text/x-python",
   "name": "python",
   "nbconvert_exporter": "python",
   "pygments_lexer": "ipython3",
   "version": "3.11.5"
  }
 },
 "nbformat": 4,
 "nbformat_minor": 5
}
