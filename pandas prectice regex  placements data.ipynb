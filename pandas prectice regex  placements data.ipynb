{
 "cells": [
  {
   "cell_type": "code",
   "execution_count": 1,
   "id": "47ae36af",
   "metadata": {},
   "outputs": [],
   "source": [
    "import numpy as np \n",
    "import pandas as pd"
   ]
  },
  {
   "cell_type": "code",
   "execution_count": 2,
   "id": "b4263039",
   "metadata": {},
   "outputs": [],
   "source": [
    "manish=pd.read_csv(\"C:\\\\Users\\\\BHARAMAN\\\\Downloads\\\\placement - placement.csv\")"
   ]
  },
  {
   "cell_type": "code",
   "execution_count": 3,
   "id": "2a4fd6ab",
   "metadata": {},
   "outputs": [
    {
     "data": {
      "text/html": [
       "<div>\n",
       "<style scoped>\n",
       "    .dataframe tbody tr th:only-of-type {\n",
       "        vertical-align: middle;\n",
       "    }\n",
       "\n",
       "    .dataframe tbody tr th {\n",
       "        vertical-align: top;\n",
       "    }\n",
       "\n",
       "    .dataframe thead th {\n",
       "        text-align: right;\n",
       "    }\n",
       "</style>\n",
       "<table border=\"1\" class=\"dataframe\">\n",
       "  <thead>\n",
       "    <tr style=\"text-align: right;\">\n",
       "      <th></th>\n",
       "      <th>cgpa</th>\n",
       "      <th>resume_score</th>\n",
       "      <th>placed</th>\n",
       "    </tr>\n",
       "  </thead>\n",
       "  <tbody>\n",
       "    <tr>\n",
       "      <th>0</th>\n",
       "      <td>8.14</td>\n",
       "      <td>6.52</td>\n",
       "      <td>1</td>\n",
       "    </tr>\n",
       "    <tr>\n",
       "      <th>1</th>\n",
       "      <td>6.17</td>\n",
       "      <td>5.17</td>\n",
       "      <td>0</td>\n",
       "    </tr>\n",
       "    <tr>\n",
       "      <th>2</th>\n",
       "      <td>8.27</td>\n",
       "      <td>8.86</td>\n",
       "      <td>1</td>\n",
       "    </tr>\n",
       "    <tr>\n",
       "      <th>3</th>\n",
       "      <td>6.88</td>\n",
       "      <td>7.27</td>\n",
       "      <td>1</td>\n",
       "    </tr>\n",
       "    <tr>\n",
       "      <th>4</th>\n",
       "      <td>7.52</td>\n",
       "      <td>7.30</td>\n",
       "      <td>1</td>\n",
       "    </tr>\n",
       "    <tr>\n",
       "      <th>...</th>\n",
       "      <td>...</td>\n",
       "      <td>...</td>\n",
       "      <td>...</td>\n",
       "    </tr>\n",
       "    <tr>\n",
       "      <th>95</th>\n",
       "      <td>6.33</td>\n",
       "      <td>6.38</td>\n",
       "      <td>0</td>\n",
       "    </tr>\n",
       "    <tr>\n",
       "      <th>96</th>\n",
       "      <td>8.23</td>\n",
       "      <td>7.76</td>\n",
       "      <td>1</td>\n",
       "    </tr>\n",
       "    <tr>\n",
       "      <th>97</th>\n",
       "      <td>6.65</td>\n",
       "      <td>7.78</td>\n",
       "      <td>0</td>\n",
       "    </tr>\n",
       "    <tr>\n",
       "      <th>98</th>\n",
       "      <td>8.14</td>\n",
       "      <td>5.63</td>\n",
       "      <td>1</td>\n",
       "    </tr>\n",
       "    <tr>\n",
       "      <th>99</th>\n",
       "      <td>6.09</td>\n",
       "      <td>6.61</td>\n",
       "      <td>0</td>\n",
       "    </tr>\n",
       "  </tbody>\n",
       "</table>\n",
       "<p>100 rows × 3 columns</p>\n",
       "</div>"
      ],
      "text/plain": [
       "    cgpa  resume_score  placed\n",
       "0   8.14          6.52       1\n",
       "1   6.17          5.17       0\n",
       "2   8.27          8.86       1\n",
       "3   6.88          7.27       1\n",
       "4   7.52          7.30       1\n",
       "..   ...           ...     ...\n",
       "95  6.33          6.38       0\n",
       "96  8.23          7.76       1\n",
       "97  6.65          7.78       0\n",
       "98  8.14          5.63       1\n",
       "99  6.09          6.61       0\n",
       "\n",
       "[100 rows x 3 columns]"
      ]
     },
     "execution_count": 3,
     "metadata": {},
     "output_type": "execute_result"
    }
   ],
   "source": [
    "manish"
   ]
  },
  {
   "cell_type": "code",
   "execution_count": 4,
   "id": "fd999c81",
   "metadata": {},
   "outputs": [
    {
     "data": {
      "text/html": [
       "<div>\n",
       "<style scoped>\n",
       "    .dataframe tbody tr th:only-of-type {\n",
       "        vertical-align: middle;\n",
       "    }\n",
       "\n",
       "    .dataframe tbody tr th {\n",
       "        vertical-align: top;\n",
       "    }\n",
       "\n",
       "    .dataframe thead th {\n",
       "        text-align: right;\n",
       "    }\n",
       "</style>\n",
       "<table border=\"1\" class=\"dataframe\">\n",
       "  <thead>\n",
       "    <tr style=\"text-align: right;\">\n",
       "      <th></th>\n",
       "      <th>cgpa</th>\n",
       "      <th>resume_score</th>\n",
       "      <th>placed</th>\n",
       "    </tr>\n",
       "  </thead>\n",
       "  <tbody>\n",
       "    <tr>\n",
       "      <th>0</th>\n",
       "      <td>8.14</td>\n",
       "      <td>6.52</td>\n",
       "      <td>1</td>\n",
       "    </tr>\n",
       "    <tr>\n",
       "      <th>1</th>\n",
       "      <td>6.17</td>\n",
       "      <td>5.17</td>\n",
       "      <td>0</td>\n",
       "    </tr>\n",
       "    <tr>\n",
       "      <th>2</th>\n",
       "      <td>8.27</td>\n",
       "      <td>8.86</td>\n",
       "      <td>1</td>\n",
       "    </tr>\n",
       "    <tr>\n",
       "      <th>3</th>\n",
       "      <td>6.88</td>\n",
       "      <td>7.27</td>\n",
       "      <td>1</td>\n",
       "    </tr>\n",
       "  </tbody>\n",
       "</table>\n",
       "</div>"
      ],
      "text/plain": [
       "   cgpa  resume_score  placed\n",
       "0  8.14          6.52       1\n",
       "1  6.17          5.17       0\n",
       "2  8.27          8.86       1\n",
       "3  6.88          7.27       1"
      ]
     },
     "execution_count": 4,
     "metadata": {},
     "output_type": "execute_result"
    }
   ],
   "source": [
    "manish.head(5) # top 5 Data"
   ]
  },
  {
   "cell_type": "code",
   "execution_count": 5,
   "id": "d139252d",
   "metadata": {},
   "outputs": [
    {
     "data": {
      "text/html": [
       "<div>\n",
       "<style scoped>\n",
       "    .dataframe tbody tr th:only-of-type {\n",
       "        vertical-align: middle;\n",
       "    }\n",
       "\n",
       "    .dataframe tbody tr th {\n",
       "        vertical-align: top;\n",
       "    }\n",
       "\n",
       "    .dataframe thead th {\n",
       "        text-align: right;\n",
       "    }\n",
       "</style>\n",
       "<table border=\"1\" class=\"dataframe\">\n",
       "  <thead>\n",
       "    <tr style=\"text-align: right;\">\n",
       "      <th></th>\n",
       "      <th>cgpa</th>\n",
       "      <th>resume_score</th>\n",
       "      <th>placed</th>\n",
       "    </tr>\n",
       "  </thead>\n",
       "  <tbody>\n",
       "    <tr>\n",
       "      <th>95</th>\n",
       "      <td>6.33</td>\n",
       "      <td>6.38</td>\n",
       "      <td>0</td>\n",
       "    </tr>\n",
       "    <tr>\n",
       "      <th>96</th>\n",
       "      <td>8.23</td>\n",
       "      <td>7.76</td>\n",
       "      <td>1</td>\n",
       "    </tr>\n",
       "    <tr>\n",
       "      <th>97</th>\n",
       "      <td>6.65</td>\n",
       "      <td>7.78</td>\n",
       "      <td>0</td>\n",
       "    </tr>\n",
       "    <tr>\n",
       "      <th>98</th>\n",
       "      <td>8.14</td>\n",
       "      <td>5.63</td>\n",
       "      <td>1</td>\n",
       "    </tr>\n",
       "    <tr>\n",
       "      <th>99</th>\n",
       "      <td>6.09</td>\n",
       "      <td>6.61</td>\n",
       "      <td>0</td>\n",
       "    </tr>\n",
       "  </tbody>\n",
       "</table>\n",
       "</div>"
      ],
      "text/plain": [
       "    cgpa  resume_score  placed\n",
       "95  6.33          6.38       0\n",
       "96  8.23          7.76       1\n",
       "97  6.65          7.78       0\n",
       "98  8.14          5.63       1\n",
       "99  6.09          6.61       0"
      ]
     },
     "execution_count": 5,
     "metadata": {},
     "output_type": "execute_result"
    }
   ],
   "source": [
    "manish.tail(5) # bottom 5 Data"
   ]
  },
  {
   "cell_type": "code",
   "execution_count": 6,
   "id": "c9a583c0",
   "metadata": {},
   "outputs": [
    {
     "data": {
      "text/html": [
       "<div>\n",
       "<style scoped>\n",
       "    .dataframe tbody tr th:only-of-type {\n",
       "        vertical-align: middle;\n",
       "    }\n",
       "\n",
       "    .dataframe tbody tr th {\n",
       "        vertical-align: top;\n",
       "    }\n",
       "\n",
       "    .dataframe thead th {\n",
       "        text-align: right;\n",
       "    }\n",
       "</style>\n",
       "<table border=\"1\" class=\"dataframe\">\n",
       "  <thead>\n",
       "    <tr style=\"text-align: right;\">\n",
       "      <th></th>\n",
       "      <th>cgpa</th>\n",
       "      <th>resume_score</th>\n",
       "      <th>placed</th>\n",
       "    </tr>\n",
       "  </thead>\n",
       "  <tbody>\n",
       "    <tr>\n",
       "      <th>count</th>\n",
       "      <td>100.0000</td>\n",
       "      <td>100.000000</td>\n",
       "      <td>100.000000</td>\n",
       "    </tr>\n",
       "    <tr>\n",
       "      <th>mean</th>\n",
       "      <td>6.9422</td>\n",
       "      <td>6.930500</td>\n",
       "      <td>0.500000</td>\n",
       "    </tr>\n",
       "    <tr>\n",
       "      <th>std</th>\n",
       "      <td>1.1192</td>\n",
       "      <td>0.979608</td>\n",
       "      <td>0.502519</td>\n",
       "    </tr>\n",
       "    <tr>\n",
       "      <th>min</th>\n",
       "      <td>5.2700</td>\n",
       "      <td>4.950000</td>\n",
       "      <td>0.000000</td>\n",
       "    </tr>\n",
       "    <tr>\n",
       "      <th>25%</th>\n",
       "      <td>5.9800</td>\n",
       "      <td>6.190000</td>\n",
       "      <td>0.000000</td>\n",
       "    </tr>\n",
       "    <tr>\n",
       "      <th>50%</th>\n",
       "      <td>6.6200</td>\n",
       "      <td>7.055000</td>\n",
       "      <td>0.500000</td>\n",
       "    </tr>\n",
       "    <tr>\n",
       "      <th>75%</th>\n",
       "      <td>8.0450</td>\n",
       "      <td>7.640000</td>\n",
       "      <td>1.000000</td>\n",
       "    </tr>\n",
       "    <tr>\n",
       "      <th>max</th>\n",
       "      <td>9.4000</td>\n",
       "      <td>9.060000</td>\n",
       "      <td>1.000000</td>\n",
       "    </tr>\n",
       "  </tbody>\n",
       "</table>\n",
       "</div>"
      ],
      "text/plain": [
       "           cgpa  resume_score      placed\n",
       "count  100.0000    100.000000  100.000000\n",
       "mean     6.9422      6.930500    0.500000\n",
       "std      1.1192      0.979608    0.502519\n",
       "min      5.2700      4.950000    0.000000\n",
       "25%      5.9800      6.190000    0.000000\n",
       "50%      6.6200      7.055000    0.500000\n",
       "75%      8.0450      7.640000    1.000000\n",
       "max      9.4000      9.060000    1.000000"
      ]
     },
     "execution_count": 6,
     "metadata": {},
     "output_type": "execute_result"
    }
   ],
   "source": [
    " manish.describe()# statically view of Data "
   ]
  },
  {
   "cell_type": "code",
   "execution_count": 7,
   "id": "c2d6e79d",
   "metadata": {},
   "outputs": [
    {
     "name": "stdout",
     "output_type": "stream",
     "text": [
      "<class 'pandas.core.frame.DataFrame'>\n",
      "RangeIndex: 100 entries, 0 to 99\n",
      "Data columns (total 3 columns):\n",
      " #   Column        Non-Null Count  Dtype  \n",
      "---  ------        --------------  -----  \n",
      " 0   cgpa          100 non-null    float64\n",
      " 1   resume_score  100 non-null    float64\n",
      " 2   placed        100 non-null    int64  \n",
      "dtypes: float64(2), int64(1)\n",
      "memory usage: 2.5 KB\n"
     ]
    }
   ],
   "source": [
    "manish.info()#Data type information"
   ]
  },
  {
   "cell_type": "code",
   "execution_count": 11,
   "id": "80cf1d83",
   "metadata": {},
   "outputs": [
    {
     "data": {
      "text/html": [
       "<div>\n",
       "<style scoped>\n",
       "    .dataframe tbody tr th:only-of-type {\n",
       "        vertical-align: middle;\n",
       "    }\n",
       "\n",
       "    .dataframe tbody tr th {\n",
       "        vertical-align: top;\n",
       "    }\n",
       "\n",
       "    .dataframe thead th {\n",
       "        text-align: right;\n",
       "    }\n",
       "</style>\n",
       "<table border=\"1\" class=\"dataframe\">\n",
       "  <thead>\n",
       "    <tr style=\"text-align: right;\">\n",
       "      <th></th>\n",
       "      <th>cgpa</th>\n",
       "      <th>resume_score</th>\n",
       "      <th>placed</th>\n",
       "    </tr>\n",
       "  </thead>\n",
       "  <tbody>\n",
       "    <tr>\n",
       "      <th>0</th>\n",
       "      <td>8.14</td>\n",
       "      <td>6.52</td>\n",
       "      <td>1</td>\n",
       "    </tr>\n",
       "    <tr>\n",
       "      <th>1</th>\n",
       "      <td>6.17</td>\n",
       "      <td>5.17</td>\n",
       "      <td>0</td>\n",
       "    </tr>\n",
       "    <tr>\n",
       "      <th>2</th>\n",
       "      <td>8.27</td>\n",
       "      <td>8.86</td>\n",
       "      <td>1</td>\n",
       "    </tr>\n",
       "    <tr>\n",
       "      <th>3</th>\n",
       "      <td>6.88</td>\n",
       "      <td>7.27</td>\n",
       "      <td>1</td>\n",
       "    </tr>\n",
       "  </tbody>\n",
       "</table>\n",
       "</div>"
      ],
      "text/plain": [
       "   cgpa  resume_score  placed\n",
       "0  8.14          6.52       1\n",
       "1  6.17          5.17       0\n",
       "2  8.27          8.86       1\n",
       "3  6.88          7.27       1"
      ]
     },
     "execution_count": 11,
     "metadata": {},
     "output_type": "execute_result"
    }
   ],
   "source": [
    "top_left_corner_df=manish.iloc[:4,:3] # iloc [row_rang,column_range]\n",
    "top_left_corner_df"
   ]
  },
  {
   "cell_type": "code",
   "execution_count": 12,
   "id": "863d9dc7",
   "metadata": {},
   "outputs": [
    {
     "data": {
      "text/html": [
       "<div>\n",
       "<style scoped>\n",
       "    .dataframe tbody tr th:only-of-type {\n",
       "        vertical-align: middle;\n",
       "    }\n",
       "\n",
       "    .dataframe tbody tr th {\n",
       "        vertical-align: top;\n",
       "    }\n",
       "\n",
       "    .dataframe thead th {\n",
       "        text-align: right;\n",
       "    }\n",
       "</style>\n",
       "<table border=\"1\" class=\"dataframe\">\n",
       "  <thead>\n",
       "    <tr style=\"text-align: right;\">\n",
       "      <th></th>\n",
       "      <th>cgpa</th>\n",
       "      <th>placed</th>\n",
       "    </tr>\n",
       "  </thead>\n",
       "  <tbody>\n",
       "    <tr>\n",
       "      <th>1</th>\n",
       "      <td>6.17</td>\n",
       "      <td>0</td>\n",
       "    </tr>\n",
       "    <tr>\n",
       "      <th>2</th>\n",
       "      <td>8.27</td>\n",
       "      <td>1</td>\n",
       "    </tr>\n",
       "    <tr>\n",
       "      <th>3</th>\n",
       "      <td>6.88</td>\n",
       "      <td>1</td>\n",
       "    </tr>\n",
       "  </tbody>\n",
       "</table>\n",
       "</div>"
      ],
      "text/plain": [
       "   cgpa  placed\n",
       "1  6.17       0\n",
       "2  8.27       1\n",
       "3  6.88       1"
      ]
     },
     "execution_count": 12,
     "metadata": {},
     "output_type": "execute_result"
    }
   ],
   "source": [
    "manish.loc[1:3,['cgpa','placed']]  # loc[row_range,column_names]"
   ]
  },
  {
   "cell_type": "code",
   "execution_count": 13,
   "id": "90b52e45",
   "metadata": {},
   "outputs": [
    {
     "data": {
      "text/plain": [
       "[RangeIndex(start=0, stop=100, step=1),\n",
       " Index(['cgpa', 'resume_score', 'placed'], dtype='object')]"
      ]
     },
     "execution_count": 13,
     "metadata": {},
     "output_type": "execute_result"
    }
   ],
   "source": [
    "  manish.axes"
   ]
  },
  {
   "cell_type": "code",
   "execution_count": 15,
   "id": "b78e09cc",
   "metadata": {},
   "outputs": [
    {
     "data": {
      "text/plain": [
       "cgpa            float64\n",
       "resume_score    float64\n",
       "placed            int64\n",
       "dtype: object"
      ]
     },
     "execution_count": 15,
     "metadata": {},
     "output_type": "execute_result"
    }
   ],
   "source": [
    "manish.dtypes"
   ]
  },
  {
   "cell_type": "code",
   "execution_count": 16,
   "id": "b5003230",
   "metadata": {},
   "outputs": [
    {
     "data": {
      "text/plain": [
       "False"
      ]
     },
     "execution_count": 16,
     "metadata": {},
     "output_type": "execute_result"
    }
   ],
   "source": [
    "manish.empty ### it return true if  ther any missing Datato DataFaram otherwise return Fales"
   ]
  },
  {
   "cell_type": "code",
   "execution_count": 17,
   "id": "fb30fe51",
   "metadata": {},
   "outputs": [
    {
     "data": {
      "text/plain": [
       "2"
      ]
     },
     "execution_count": 17,
     "metadata": {},
     "output_type": "execute_result"
    }
   ],
   "source": [
    "manish.ndim  # number of axes (it is 2)"
   ]
  },
  {
   "cell_type": "code",
   "execution_count": 18,
   "id": "39879b2f",
   "metadata": {},
   "outputs": [
    {
     "data": {
      "text/plain": [
       "(100, 3)"
      ]
     },
     "execution_count": 18,
     "metadata": {},
     "output_type": "execute_result"
    }
   ],
   "source": [
    "manish.shape # shape=n(row),n(colunm)"
   ]
  },
  {
   "cell_type": "code",
   "execution_count": 19,
   "id": "56d02ec1",
   "metadata": {},
   "outputs": [
    {
     "data": {
      "text/plain": [
       "300"
      ]
     },
     "execution_count": 19,
     "metadata": {},
     "output_type": "execute_result"
    }
   ],
   "source": [
    "manish.size #  row*count,colunm*count"
   ]
  },
  {
   "cell_type": "code",
   "execution_count": 21,
   "id": "1872534b",
   "metadata": {},
   "outputs": [
    {
     "data": {
      "text/plain": [
       "array([[8.14, 6.52, 1.  ],\n",
       "       [6.17, 5.17, 0.  ],\n",
       "       [8.27, 8.86, 1.  ],\n",
       "       [6.88, 7.27, 1.  ],\n",
       "       [7.52, 7.3 , 1.  ],\n",
       "       [8.77, 6.19, 1.  ],\n",
       "       [5.34, 7.09, 0.  ],\n",
       "       [6.56, 6.29, 0.  ],\n",
       "       [6.32, 6.71, 0.  ],\n",
       "       [7.69, 7.12, 1.  ],\n",
       "       [6.18, 6.35, 0.  ],\n",
       "       [5.44, 6.54, 0.  ],\n",
       "       [6.09, 7.01, 0.  ],\n",
       "       [8.5 , 5.09, 1.  ],\n",
       "       [7.51, 6.25, 1.  ],\n",
       "       [8.88, 5.93, 1.  ],\n",
       "       [8.04, 7.64, 1.  ],\n",
       "       [7.81, 8.71, 1.  ],\n",
       "       [5.94, 5.88, 0.  ],\n",
       "       [6.75, 8.11, 1.  ],\n",
       "       [5.8 , 8.06, 0.  ],\n",
       "       [6.53, 7.64, 0.  ],\n",
       "       [6.16, 5.77, 0.  ],\n",
       "       [6.05, 7.13, 0.  ],\n",
       "       [8.22, 6.18, 1.  ],\n",
       "       [7.76, 5.68, 1.  ],\n",
       "       [6.27, 6.47, 0.  ],\n",
       "       [5.51, 6.15, 0.  ],\n",
       "       [7.46, 7.67, 1.  ],\n",
       "       [6.19, 7.3 , 0.  ],\n",
       "       [7.36, 7.15, 1.  ],\n",
       "       [5.92, 7.02, 0.  ],\n",
       "       [5.87, 7.96, 0.  ],\n",
       "       [8.43, 7.73, 1.  ],\n",
       "       [8.87, 7.19, 1.  ],\n",
       "       [8.07, 7.48, 1.  ],\n",
       "       [8.16, 7.56, 1.  ],\n",
       "       [9.05, 8.21, 1.  ],\n",
       "       [6.  , 8.72, 0.  ],\n",
       "       [7.5 , 6.19, 1.  ],\n",
       "       [8.25, 5.32, 1.  ],\n",
       "       [8.68, 5.15, 1.  ],\n",
       "       [6.9 , 6.91, 1.  ],\n",
       "       [8.21, 7.95, 1.  ],\n",
       "       [5.47, 5.92, 0.  ],\n",
       "       [8.1 , 5.44, 1.  ],\n",
       "       [5.83, 5.21, 0.  ],\n",
       "       [7.05, 8.14, 1.  ],\n",
       "       [5.54, 6.57, 0.  ],\n",
       "       [5.46, 6.73, 0.  ],\n",
       "       [8.22, 6.74, 1.  ],\n",
       "       [6.54, 7.39, 0.  ],\n",
       "       [5.9 , 7.5 , 0.  ],\n",
       "       [6.  , 7.16, 0.  ],\n",
       "       [5.92, 7.18, 0.  ],\n",
       "       [6.94, 6.87, 1.  ],\n",
       "       [6.13, 6.43, 0.  ],\n",
       "       [6.34, 7.21, 0.  ],\n",
       "       [6.47, 7.37, 0.  ],\n",
       "       [5.95, 7.57, 0.  ],\n",
       "       [5.87, 6.64, 0.  ],\n",
       "       [6.89, 7.96, 1.  ],\n",
       "       [5.75, 8.43, 0.  ],\n",
       "       [8.65, 7.58, 1.  ],\n",
       "       [7.93, 8.09, 1.  ],\n",
       "       [6.04, 8.75, 0.  ],\n",
       "       [8.35, 8.02, 1.  ],\n",
       "       [6.59, 6.81, 1.  ],\n",
       "       [6.01, 7.49, 0.  ],\n",
       "       [8.06, 9.06, 1.  ],\n",
       "       [7.12, 7.41, 1.  ],\n",
       "       [7.34, 8.22, 1.  ],\n",
       "       [7.63, 7.98, 1.  ],\n",
       "       [5.76, 6.48, 0.  ],\n",
       "       [5.54, 7.36, 0.  ],\n",
       "       [6.34, 7.94, 1.  ],\n",
       "       [9.4 , 5.5 , 1.  ],\n",
       "       [5.88, 6.92, 0.  ],\n",
       "       [5.79, 5.66, 0.  ],\n",
       "       [5.27, 7.28, 0.  ],\n",
       "       [7.83, 7.7 , 1.  ],\n",
       "       [6.12, 6.72, 0.  ],\n",
       "       [7.92, 6.06, 1.  ],\n",
       "       [7.6 , 8.08, 1.  ],\n",
       "       [5.76, 6.49, 0.  ],\n",
       "       [6.72, 5.46, 0.  ],\n",
       "       [6.18, 5.76, 0.  ],\n",
       "       [5.62, 5.05, 0.  ],\n",
       "       [8.07, 6.07, 1.  ],\n",
       "       [5.99, 7.49, 0.  ],\n",
       "       [5.85, 5.56, 0.  ],\n",
       "       [8.28, 6.3 , 1.  ],\n",
       "       [5.43, 6.18, 0.  ],\n",
       "       [9.31, 7.39, 1.  ],\n",
       "       [8.01, 4.95, 1.  ],\n",
       "       [6.33, 6.38, 0.  ],\n",
       "       [8.23, 7.76, 1.  ],\n",
       "       [6.65, 7.78, 0.  ],\n",
       "       [8.14, 5.63, 1.  ],\n",
       "       [6.09, 6.61, 0.  ]])"
      ]
     },
     "execution_count": 21,
     "metadata": {},
     "output_type": "execute_result"
    }
   ],
   "source": [
    "manish.values # get  a numpy for  manish"
   ]
  },
  {
   "cell_type": "code",
   "execution_count": null,
   "id": "c1889bba",
   "metadata": {},
   "outputs": [],
   "source": [
    " manish.copy()"
   ]
  },
  {
   "cell_type": "code",
   "execution_count": 22,
   "id": "78cf1ee1",
   "metadata": {},
   "outputs": [
    {
     "data": {
      "text/html": [
       "<div>\n",
       "<style scoped>\n",
       "    .dataframe tbody tr th:only-of-type {\n",
       "        vertical-align: middle;\n",
       "    }\n",
       "\n",
       "    .dataframe tbody tr th {\n",
       "        vertical-align: top;\n",
       "    }\n",
       "\n",
       "    .dataframe thead th {\n",
       "        text-align: right;\n",
       "    }\n",
       "</style>\n",
       "<table border=\"1\" class=\"dataframe\">\n",
       "  <thead>\n",
       "    <tr style=\"text-align: right;\">\n",
       "      <th></th>\n",
       "      <th>cgpa</th>\n",
       "      <th>resume_score</th>\n",
       "      <th>placed</th>\n",
       "    </tr>\n",
       "  </thead>\n",
       "  <tbody>\n",
       "    <tr>\n",
       "      <th>94</th>\n",
       "      <td>8.01</td>\n",
       "      <td>4.95</td>\n",
       "      <td>1</td>\n",
       "    </tr>\n",
       "    <tr>\n",
       "      <th>87</th>\n",
       "      <td>5.62</td>\n",
       "      <td>5.05</td>\n",
       "      <td>0</td>\n",
       "    </tr>\n",
       "    <tr>\n",
       "      <th>13</th>\n",
       "      <td>8.50</td>\n",
       "      <td>5.09</td>\n",
       "      <td>1</td>\n",
       "    </tr>\n",
       "    <tr>\n",
       "      <th>41</th>\n",
       "      <td>8.68</td>\n",
       "      <td>5.15</td>\n",
       "      <td>1</td>\n",
       "    </tr>\n",
       "    <tr>\n",
       "      <th>1</th>\n",
       "      <td>6.17</td>\n",
       "      <td>5.17</td>\n",
       "      <td>0</td>\n",
       "    </tr>\n",
       "    <tr>\n",
       "      <th>...</th>\n",
       "      <td>...</td>\n",
       "      <td>...</td>\n",
       "      <td>...</td>\n",
       "    </tr>\n",
       "    <tr>\n",
       "      <th>17</th>\n",
       "      <td>7.81</td>\n",
       "      <td>8.71</td>\n",
       "      <td>1</td>\n",
       "    </tr>\n",
       "    <tr>\n",
       "      <th>38</th>\n",
       "      <td>6.00</td>\n",
       "      <td>8.72</td>\n",
       "      <td>0</td>\n",
       "    </tr>\n",
       "    <tr>\n",
       "      <th>65</th>\n",
       "      <td>6.04</td>\n",
       "      <td>8.75</td>\n",
       "      <td>0</td>\n",
       "    </tr>\n",
       "    <tr>\n",
       "      <th>2</th>\n",
       "      <td>8.27</td>\n",
       "      <td>8.86</td>\n",
       "      <td>1</td>\n",
       "    </tr>\n",
       "    <tr>\n",
       "      <th>69</th>\n",
       "      <td>8.06</td>\n",
       "      <td>9.06</td>\n",
       "      <td>1</td>\n",
       "    </tr>\n",
       "  </tbody>\n",
       "</table>\n",
       "<p>100 rows × 3 columns</p>\n",
       "</div>"
      ],
      "text/plain": [
       "    cgpa  resume_score  placed\n",
       "94  8.01          4.95       1\n",
       "87  5.62          5.05       0\n",
       "13  8.50          5.09       1\n",
       "41  8.68          5.15       1\n",
       "1   6.17          5.17       0\n",
       "..   ...           ...     ...\n",
       "17  7.81          8.71       1\n",
       "38  6.00          8.72       0\n",
       "65  6.04          8.75       0\n",
       "2   8.27          8.86       1\n",
       "69  8.06          9.06       1\n",
       "\n",
       "[100 rows x 3 columns]"
      ]
     },
     "execution_count": 22,
     "metadata": {},
     "output_type": "execute_result"
    }
   ],
   "source": [
    "manish.sort_values(by='resume_score')"
   ]
  },
  {
   "cell_type": "code",
   "execution_count": 23,
   "id": "62d08a2f",
   "metadata": {},
   "outputs": [
    {
     "data": {
      "text/html": [
       "<div>\n",
       "<style scoped>\n",
       "    .dataframe tbody tr th:only-of-type {\n",
       "        vertical-align: middle;\n",
       "    }\n",
       "\n",
       "    .dataframe tbody tr th {\n",
       "        vertical-align: top;\n",
       "    }\n",
       "\n",
       "    .dataframe thead th {\n",
       "        text-align: right;\n",
       "    }\n",
       "</style>\n",
       "<table border=\"1\" class=\"dataframe\">\n",
       "  <thead>\n",
       "    <tr style=\"text-align: right;\">\n",
       "      <th></th>\n",
       "      <th>cgpa</th>\n",
       "      <th>resume_score</th>\n",
       "      <th>placed</th>\n",
       "    </tr>\n",
       "  </thead>\n",
       "  <tbody>\n",
       "    <tr>\n",
       "      <th>0</th>\n",
       "      <td>8.14</td>\n",
       "      <td>6.52</td>\n",
       "      <td>1</td>\n",
       "    </tr>\n",
       "    <tr>\n",
       "      <th>1</th>\n",
       "      <td>6.17</td>\n",
       "      <td>5.17</td>\n",
       "      <td>0</td>\n",
       "    </tr>\n",
       "    <tr>\n",
       "      <th>2</th>\n",
       "      <td>8.27</td>\n",
       "      <td>8.86</td>\n",
       "      <td>1</td>\n",
       "    </tr>\n",
       "    <tr>\n",
       "      <th>3</th>\n",
       "      <td>6.88</td>\n",
       "      <td>7.27</td>\n",
       "      <td>1</td>\n",
       "    </tr>\n",
       "    <tr>\n",
       "      <th>4</th>\n",
       "      <td>7.52</td>\n",
       "      <td>7.30</td>\n",
       "      <td>1</td>\n",
       "    </tr>\n",
       "    <tr>\n",
       "      <th>...</th>\n",
       "      <td>...</td>\n",
       "      <td>...</td>\n",
       "      <td>...</td>\n",
       "    </tr>\n",
       "    <tr>\n",
       "      <th>95</th>\n",
       "      <td>6.33</td>\n",
       "      <td>6.38</td>\n",
       "      <td>0</td>\n",
       "    </tr>\n",
       "    <tr>\n",
       "      <th>96</th>\n",
       "      <td>8.23</td>\n",
       "      <td>7.76</td>\n",
       "      <td>1</td>\n",
       "    </tr>\n",
       "    <tr>\n",
       "      <th>97</th>\n",
       "      <td>6.65</td>\n",
       "      <td>7.78</td>\n",
       "      <td>0</td>\n",
       "    </tr>\n",
       "    <tr>\n",
       "      <th>98</th>\n",
       "      <td>8.14</td>\n",
       "      <td>5.63</td>\n",
       "      <td>1</td>\n",
       "    </tr>\n",
       "    <tr>\n",
       "      <th>99</th>\n",
       "      <td>6.09</td>\n",
       "      <td>6.61</td>\n",
       "      <td>0</td>\n",
       "    </tr>\n",
       "  </tbody>\n",
       "</table>\n",
       "<p>100 rows × 3 columns</p>\n",
       "</div>"
      ],
      "text/plain": [
       "    cgpa  resume_score  placed\n",
       "0   8.14          6.52       1\n",
       "1   6.17          5.17       0\n",
       "2   8.27          8.86       1\n",
       "3   6.88          7.27       1\n",
       "4   7.52          7.30       1\n",
       "..   ...           ...     ...\n",
       "95  6.33          6.38       0\n",
       "96  8.23          7.76       1\n",
       "97  6.65          7.78       0\n",
       "98  8.14          5.63       1\n",
       "99  6.09          6.61       0\n",
       "\n",
       "[100 rows x 3 columns]"
      ]
     },
     "execution_count": 23,
     "metadata": {},
     "output_type": "execute_result"
    }
   ],
   "source": [
    "manish.sort_index()"
   ]
  },
  {
   "cell_type": "code",
   "execution_count": 27,
   "id": "090845bb",
   "metadata": {},
   "outputs": [],
   "source": [
    " # x= manish.astype(int) # type converstion"
   ]
  },
  {
   "cell_type": "code",
   "execution_count": 74,
   "id": "b584d33a",
   "metadata": {},
   "outputs": [
    {
     "data": {
      "text/plain": [
       "0     24\n",
       "1     22\n",
       "2     24\n",
       "3     22\n",
       "4     23\n",
       "      ..\n",
       "95    22\n",
       "96    24\n",
       "97    22\n",
       "98    24\n",
       "99    22\n",
       "Name: cgpa, Length: 100, dtype: int32"
      ]
     },
     "execution_count": 74,
     "metadata": {},
     "output_type": "execute_result"
    }
   ],
   "source": [
    " manish['cgpa'].astype(int)   \n",
    "# manish"
   ]
  },
  {
   "cell_type": "code",
   "execution_count": 72,
   "id": "f67929bc",
   "metadata": {},
   "outputs": [],
   "source": [
    "# x = df.astype(int)   # type conversion \n",
    "manish['cgpa'] = manish['cgpa'].astype(int)\n",
    "# df"
   ]
  },
  {
   "cell_type": "code",
   "execution_count": 76,
   "id": "bed45063",
   "metadata": {},
   "outputs": [
    {
     "data": {
      "text/plain": [
       "0     28\n",
       "1     26\n",
       "2     28\n",
       "3     26\n",
       "4     27\n",
       "      ..\n",
       "95    26\n",
       "96    28\n",
       "97    26\n",
       "98    28\n",
       "99    26\n",
       "Name: cgpa, Length: 100, dtype: int32"
      ]
     },
     "execution_count": 76,
     "metadata": {},
     "output_type": "execute_result"
    }
   ],
   "source": [
    "# t = manish.add(4)\n",
    "manish['cgpa'].add(4)     \n"
   ]
  },
  {
   "cell_type": "code",
   "execution_count": 40,
   "id": "9ce9f7bf",
   "metadata": {},
   "outputs": [
    {
     "data": {
      "text/plain": [
       "cgpa            100\n",
       "resume_score    100\n",
       "placed          100\n",
       "dtype: int64"
      ]
     },
     "execution_count": 40,
     "metadata": {},
     "output_type": "execute_result"
    }
   ],
   "source": [
    " manish.count() #  any column  Frequency"
   ]
  },
  {
   "cell_type": "code",
   "execution_count": 41,
   "id": "c00e8e62",
   "metadata": {},
   "outputs": [
    {
     "data": {
      "text/plain": [
       "cgpa            21.00\n",
       "resume_score     9.06\n",
       "placed           1.00\n",
       "dtype: float64"
      ]
     },
     "execution_count": 41,
     "metadata": {},
     "output_type": "execute_result"
    }
   ],
   "source": [
    "manish.max() # any column  maximum number"
   ]
  },
  {
   "cell_type": "code",
   "execution_count": 42,
   "id": "961864b4",
   "metadata": {},
   "outputs": [
    {
     "data": {
      "text/plain": [
       "cgpa            17.00\n",
       "resume_score     4.95\n",
       "placed           0.00\n",
       "dtype: float64"
      ]
     },
     "execution_count": 42,
     "metadata": {},
     "output_type": "execute_result"
    }
   ],
   "source": [
    "manish.min() # any column minimum number "
   ]
  },
  {
   "cell_type": "code",
   "execution_count": 43,
   "id": "8372d8e9",
   "metadata": {},
   "outputs": [
    {
     "data": {
      "text/plain": [
       "cgpa            18.4700\n",
       "resume_score     6.9305\n",
       "placed           0.5000\n",
       "dtype: float64"
      ]
     },
     "execution_count": 43,
     "metadata": {},
     "output_type": "execute_result"
    }
   ],
   "source": [
    "manish.mean() # any number of average"
   ]
  },
  {
   "cell_type": "code",
   "execution_count": 45,
   "id": "49a58584",
   "metadata": {},
   "outputs": [
    {
     "data": {
      "text/plain": [
       "cgpa            18.000\n",
       "resume_score     7.055\n",
       "placed           0.500\n",
       "dtype: float64"
      ]
     },
     "execution_count": 45,
     "metadata": {},
     "output_type": "execute_result"
    }
   ],
   "source": [
    "manish.median()  # any number  median "
   ]
  },
  {
   "cell_type": "code",
   "execution_count": 46,
   "id": "844105f3",
   "metadata": {},
   "outputs": [
    {
     "data": {
      "text/plain": [
       "cgpa            1847.00\n",
       "resume_score     693.05\n",
       "placed            50.00\n",
       "dtype: float64"
      ]
     },
     "execution_count": 46,
     "metadata": {},
     "output_type": "execute_result"
    }
   ],
   "source": [
    "manish.sum()   # any column total "
   ]
  },
  {
   "cell_type": "code",
   "execution_count": 77,
   "id": "2e1f264c",
   "metadata": {},
   "outputs": [
    {
     "data": {
      "text/html": [
       "<div>\n",
       "<style scoped>\n",
       "    .dataframe tbody tr th:only-of-type {\n",
       "        vertical-align: middle;\n",
       "    }\n",
       "\n",
       "    .dataframe tbody tr th {\n",
       "        vertical-align: top;\n",
       "    }\n",
       "\n",
       "    .dataframe thead th {\n",
       "        text-align: right;\n",
       "    }\n",
       "</style>\n",
       "<table border=\"1\" class=\"dataframe\">\n",
       "  <thead>\n",
       "    <tr style=\"text-align: right;\">\n",
       "      <th></th>\n",
       "      <th>cgpa</th>\n",
       "      <th>placed</th>\n",
       "    </tr>\n",
       "  </thead>\n",
       "  <tbody>\n",
       "    <tr>\n",
       "      <th>0</th>\n",
       "      <td>24</td>\n",
       "      <td>1</td>\n",
       "    </tr>\n",
       "    <tr>\n",
       "      <th>1</th>\n",
       "      <td>22</td>\n",
       "      <td>0</td>\n",
       "    </tr>\n",
       "    <tr>\n",
       "      <th>2</th>\n",
       "      <td>24</td>\n",
       "      <td>1</td>\n",
       "    </tr>\n",
       "    <tr>\n",
       "      <th>3</th>\n",
       "      <td>22</td>\n",
       "      <td>1</td>\n",
       "    </tr>\n",
       "    <tr>\n",
       "      <th>4</th>\n",
       "      <td>23</td>\n",
       "      <td>1</td>\n",
       "    </tr>\n",
       "    <tr>\n",
       "      <th>...</th>\n",
       "      <td>...</td>\n",
       "      <td>...</td>\n",
       "    </tr>\n",
       "    <tr>\n",
       "      <th>95</th>\n",
       "      <td>22</td>\n",
       "      <td>0</td>\n",
       "    </tr>\n",
       "    <tr>\n",
       "      <th>96</th>\n",
       "      <td>24</td>\n",
       "      <td>1</td>\n",
       "    </tr>\n",
       "    <tr>\n",
       "      <th>97</th>\n",
       "      <td>22</td>\n",
       "      <td>0</td>\n",
       "    </tr>\n",
       "    <tr>\n",
       "      <th>98</th>\n",
       "      <td>24</td>\n",
       "      <td>1</td>\n",
       "    </tr>\n",
       "    <tr>\n",
       "      <th>99</th>\n",
       "      <td>22</td>\n",
       "      <td>0</td>\n",
       "    </tr>\n",
       "  </tbody>\n",
       "</table>\n",
       "<p>100 rows × 2 columns</p>\n",
       "</div>"
      ],
      "text/plain": [
       "    cgpa  placed\n",
       "0     24       1\n",
       "1     22       0\n",
       "2     24       1\n",
       "3     22       1\n",
       "4     23       1\n",
       "..   ...     ...\n",
       "95    22       0\n",
       "96    24       1\n",
       "97    22       0\n",
       "98    24       1\n",
       "99    22       0\n",
       "\n",
       "[100 rows x 2 columns]"
      ]
     },
     "execution_count": 77,
     "metadata": {},
     "output_type": "execute_result"
    }
   ],
   "source": [
    "manish.filter(items = ['cgpa','placed'] )\n",
    "# manish[['cgpa','placed']]  ## secoeand option of filtering   "
   ]
  },
  {
   "cell_type": "code",
   "execution_count": 51,
   "id": "ae5725d0",
   "metadata": {},
   "outputs": [
    {
     "data": {
      "text/html": [
       "<div>\n",
       "<style scoped>\n",
       "    .dataframe tbody tr th:only-of-type {\n",
       "        vertical-align: middle;\n",
       "    }\n",
       "\n",
       "    .dataframe tbody tr th {\n",
       "        vertical-align: top;\n",
       "    }\n",
       "\n",
       "    .dataframe thead th {\n",
       "        text-align: right;\n",
       "    }\n",
       "</style>\n",
       "<table border=\"1\" class=\"dataframe\">\n",
       "  <thead>\n",
       "    <tr style=\"text-align: right;\">\n",
       "      <th></th>\n",
       "      <th>cgpa</th>\n",
       "      <th>resume_score</th>\n",
       "      <th>placed</th>\n",
       "    </tr>\n",
       "  </thead>\n",
       "  <tbody>\n",
       "    <tr>\n",
       "      <th>5</th>\n",
       "      <td>20</td>\n",
       "      <td>6.19</td>\n",
       "      <td>1</td>\n",
       "    </tr>\n",
       "    <tr>\n",
       "      <th>6</th>\n",
       "      <td>17</td>\n",
       "      <td>7.09</td>\n",
       "      <td>0</td>\n",
       "    </tr>\n",
       "  </tbody>\n",
       "</table>\n",
       "</div>"
      ],
      "text/plain": [
       "   cgpa  resume_score  placed\n",
       "5    20          6.19       1\n",
       "6    17          7.09       0"
      ]
     },
     "execution_count": 51,
     "metadata": {},
     "output_type": "execute_result"
    }
   ],
   "source": [
    "s=manish.filter(items =[5,6], axis=0)  ### axis means row wise opera tion\n",
    "s"
   ]
  },
  {
   "cell_type": "code",
   "execution_count": 54,
   "id": "2d59c975",
   "metadata": {},
   "outputs": [],
   "source": [
    "s= manish.to_dict()  ## save to dictionary\n",
    "# s"
   ]
  },
  {
   "cell_type": "code",
   "execution_count": 57,
   "id": "ac66172c",
   "metadata": {},
   "outputs": [],
   "source": [
    "q=manish.to_string()  ## save to strings\n",
    "# q"
   ]
  },
  {
   "cell_type": "code",
   "execution_count": 59,
   "id": "4a14ce34",
   "metadata": {},
   "outputs": [
    {
     "data": {
      "text/plain": [
       "Index(['cgpa', 'resume_score', 'placed'], dtype='object')"
      ]
     },
     "execution_count": 59,
     "metadata": {},
     "output_type": "execute_result"
    }
   ],
   "source": [
    "m = manish.columns\n",
    "m"
   ]
  },
  {
   "cell_type": "code",
   "execution_count": 60,
   "id": "5160a4d8",
   "metadata": {},
   "outputs": [
    {
     "data": {
      "text/plain": [
       "'cgpa'"
      ]
     },
     "execution_count": 60,
     "metadata": {},
     "output_type": "execute_result"
    }
   ],
   "source": [
    "mk = manish.columns[0]  ##   first column \n",
    "mk"
   ]
  },
  {
   "cell_type": "code",
   "execution_count": 61,
   "id": "457b5a7b",
   "metadata": {},
   "outputs": [
    {
     "data": {
      "text/plain": [
       "['cgpa', 'resume_score', 'placed']"
      ]
     },
     "execution_count": 61,
     "metadata": {},
     "output_type": "execute_result"
    }
   ],
   "source": [
    "mo = manish.columns.tolist()  ##   list of column labls\n",
    "mo"
   ]
  },
  {
   "cell_type": "code",
   "execution_count": 64,
   "id": "a21bb809",
   "metadata": {},
   "outputs": [
    {
     "data": {
      "text/plain": [
       "array(['cgpa', 'resume_score', 'placed'], dtype=object)"
      ]
     },
     "execution_count": 64,
     "metadata": {},
     "output_type": "execute_result"
    }
   ],
   "source": [
    "o = manish.columns.values ##3 array of colums lable\n",
    "o"
   ]
  },
  {
   "cell_type": "code",
   "execution_count": 78,
   "id": "cd210ccc",
   "metadata": {},
   "outputs": [
    {
     "data": {
      "text/html": [
       "<div>\n",
       "<style scoped>\n",
       "    .dataframe tbody tr th:only-of-type {\n",
       "        vertical-align: middle;\n",
       "    }\n",
       "\n",
       "    .dataframe tbody tr th {\n",
       "        vertical-align: top;\n",
       "    }\n",
       "\n",
       "    .dataframe thead th {\n",
       "        text-align: right;\n",
       "    }\n",
       "</style>\n",
       "<table border=\"1\" class=\"dataframe\">\n",
       "  <thead>\n",
       "    <tr style=\"text-align: right;\">\n",
       "      <th></th>\n",
       "      <th>half_yearly_marks</th>\n",
       "      <th>semester_marks</th>\n",
       "      <th>placed</th>\n",
       "      <th>half</th>\n",
       "    </tr>\n",
       "  </thead>\n",
       "  <tbody>\n",
       "    <tr>\n",
       "      <th>0</th>\n",
       "      <td>24</td>\n",
       "      <td>6.52</td>\n",
       "      <td>1</td>\n",
       "      <td>0</td>\n",
       "    </tr>\n",
       "    <tr>\n",
       "      <th>1</th>\n",
       "      <td>22</td>\n",
       "      <td>5.17</td>\n",
       "      <td>0</td>\n",
       "      <td>0</td>\n",
       "    </tr>\n",
       "    <tr>\n",
       "      <th>2</th>\n",
       "      <td>24</td>\n",
       "      <td>8.86</td>\n",
       "      <td>1</td>\n",
       "      <td>0</td>\n",
       "    </tr>\n",
       "    <tr>\n",
       "      <th>3</th>\n",
       "      <td>22</td>\n",
       "      <td>7.27</td>\n",
       "      <td>1</td>\n",
       "      <td>0</td>\n",
       "    </tr>\n",
       "    <tr>\n",
       "      <th>4</th>\n",
       "      <td>23</td>\n",
       "      <td>7.30</td>\n",
       "      <td>1</td>\n",
       "      <td>0</td>\n",
       "    </tr>\n",
       "    <tr>\n",
       "      <th>...</th>\n",
       "      <td>...</td>\n",
       "      <td>...</td>\n",
       "      <td>...</td>\n",
       "      <td>...</td>\n",
       "    </tr>\n",
       "    <tr>\n",
       "      <th>95</th>\n",
       "      <td>22</td>\n",
       "      <td>6.38</td>\n",
       "      <td>0</td>\n",
       "      <td>0</td>\n",
       "    </tr>\n",
       "    <tr>\n",
       "      <th>96</th>\n",
       "      <td>24</td>\n",
       "      <td>7.76</td>\n",
       "      <td>1</td>\n",
       "      <td>0</td>\n",
       "    </tr>\n",
       "    <tr>\n",
       "      <th>97</th>\n",
       "      <td>22</td>\n",
       "      <td>7.78</td>\n",
       "      <td>0</td>\n",
       "      <td>0</td>\n",
       "    </tr>\n",
       "    <tr>\n",
       "      <th>98</th>\n",
       "      <td>24</td>\n",
       "      <td>5.63</td>\n",
       "      <td>1</td>\n",
       "      <td>0</td>\n",
       "    </tr>\n",
       "    <tr>\n",
       "      <th>99</th>\n",
       "      <td>22</td>\n",
       "      <td>6.61</td>\n",
       "      <td>0</td>\n",
       "      <td>0</td>\n",
       "    </tr>\n",
       "  </tbody>\n",
       "</table>\n",
       "<p>100 rows × 4 columns</p>\n",
       "</div>"
      ],
      "text/plain": [
       "    half_yearly_marks  semester_marks  placed  half\n",
       "0                  24            6.52       1     0\n",
       "1                  22            5.17       0     0\n",
       "2                  24            8.86       1     0\n",
       "3                  22            7.27       1     0\n",
       "4                  23            7.30       1     0\n",
       "..                ...             ...     ...   ...\n",
       "95                 22            6.38       0     0\n",
       "96                 24            7.76       1     0\n",
       "97                 22            7.78       0     0\n",
       "98                 24            5.63       1     0\n",
       "99                 22            6.61       0     0\n",
       "\n",
       "[100 rows x 4 columns]"
      ]
     },
     "execution_count": 78,
     "metadata": {},
     "output_type": "execute_result"
    }
   ],
   "source": [
    "p = manish.rename(columns={ 'cgpa':'half_yearly_marks',\n",
    "                           'resume_score':'semester_marks'})  #  How to rename a coiumn\n",
    "p"
   ]
  },
  {
   "cell_type": "code",
   "execution_count": 80,
   "id": "2d9d7d2a",
   "metadata": {},
   "outputs": [
    {
     "data": {
      "text/html": [
       "<div>\n",
       "<style scoped>\n",
       "    .dataframe tbody tr th:only-of-type {\n",
       "        vertical-align: middle;\n",
       "    }\n",
       "\n",
       "    .dataframe tbody tr th {\n",
       "        vertical-align: top;\n",
       "    }\n",
       "\n",
       "    .dataframe thead th {\n",
       "        text-align: right;\n",
       "    }\n",
       "</style>\n",
       "<table border=\"1\" class=\"dataframe\">\n",
       "  <thead>\n",
       "    <tr style=\"text-align: right;\">\n",
       "      <th></th>\n",
       "      <th>cgpa</th>\n",
       "      <th>resume_score</th>\n",
       "      <th>placed</th>\n",
       "      <th>half</th>\n",
       "    </tr>\n",
       "  </thead>\n",
       "  <tbody>\n",
       "    <tr>\n",
       "      <th>0</th>\n",
       "      <td>24</td>\n",
       "      <td>6.52</td>\n",
       "      <td>1</td>\n",
       "      <td>0</td>\n",
       "    </tr>\n",
       "    <tr>\n",
       "      <th>1</th>\n",
       "      <td>22</td>\n",
       "      <td>5.17</td>\n",
       "      <td>0</td>\n",
       "      <td>0</td>\n",
       "    </tr>\n",
       "    <tr>\n",
       "      <th>2</th>\n",
       "      <td>24</td>\n",
       "      <td>8.86</td>\n",
       "      <td>1</td>\n",
       "      <td>0</td>\n",
       "    </tr>\n",
       "    <tr>\n",
       "      <th>3</th>\n",
       "      <td>22</td>\n",
       "      <td>7.27</td>\n",
       "      <td>1</td>\n",
       "      <td>0</td>\n",
       "    </tr>\n",
       "    <tr>\n",
       "      <th>4</th>\n",
       "      <td>23</td>\n",
       "      <td>7.30</td>\n",
       "      <td>1</td>\n",
       "      <td>0</td>\n",
       "    </tr>\n",
       "    <tr>\n",
       "      <th>5</th>\n",
       "      <td>24</td>\n",
       "      <td>6.19</td>\n",
       "      <td>1</td>\n",
       "      <td>0</td>\n",
       "    </tr>\n",
       "    <tr>\n",
       "      <th>6</th>\n",
       "      <td>21</td>\n",
       "      <td>7.09</td>\n",
       "      <td>0</td>\n",
       "      <td>0</td>\n",
       "    </tr>\n",
       "    <tr>\n",
       "      <th>7</th>\n",
       "      <td>22</td>\n",
       "      <td>6.29</td>\n",
       "      <td>0</td>\n",
       "      <td>0</td>\n",
       "    </tr>\n",
       "    <tr>\n",
       "      <th>8</th>\n",
       "      <td>22</td>\n",
       "      <td>6.71</td>\n",
       "      <td>0</td>\n",
       "      <td>0</td>\n",
       "    </tr>\n",
       "    <tr>\n",
       "      <th>9</th>\n",
       "      <td>23</td>\n",
       "      <td>7.12</td>\n",
       "      <td>1</td>\n",
       "      <td>0</td>\n",
       "    </tr>\n",
       "  </tbody>\n",
       "</table>\n",
       "</div>"
      ],
      "text/plain": [
       "   cgpa  resume_score  placed  half\n",
       "0    24          6.52       1     0\n",
       "1    22          5.17       0     0\n",
       "2    24          8.86       1     0\n",
       "3    22          7.27       1     0\n",
       "4    23          7.30       1     0\n",
       "5    24          6.19       1     0\n",
       "6    21          7.09       0     0\n",
       "7    22          6.29       0     0\n",
       "8    22          6.71       0     0\n",
       "9    23          7.12       1     0"
      ]
     },
     "execution_count": 80,
     "metadata": {},
     "output_type": "execute_result"
    }
   ],
   "source": [
    "manish['half'] = manish['cgpa'].where(manish ['cgpa']>50, other =0)\n",
    "manish.head(10) "
   ]
  },
  {
   "cell_type": "code",
   "execution_count": null,
   "id": "e364eb4d",
   "metadata": {},
   "outputs": [],
   "source": []
  }
 ],
 "metadata": {
  "kernelspec": {
   "display_name": "Python 3 (ipykernel)",
   "language": "python",
   "name": "python3"
  },
  "language_info": {
   "codemirror_mode": {
    "name": "ipython",
    "version": 3
   },
   "file_extension": ".py",
   "mimetype": "text/x-python",
   "name": "python",
   "nbconvert_exporter": "python",
   "pygments_lexer": "ipython3",
   "version": "3.11.5"
  }
 },
 "nbformat": 4,
 "nbformat_minor": 5
}
